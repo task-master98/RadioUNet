{
 "cells": [
  {
   "cell_type": "markdown",
   "metadata": {},
   "source": [
    "# Designing a U-Net"
   ]
  },
  {
   "cell_type": "markdown",
   "metadata": {},
   "source": [
    "## Import Statements"
   ]
  },
  {
   "cell_type": "code",
   "execution_count": 1,
   "metadata": {},
   "outputs": [],
   "source": [
    "import torch\n",
    "import torch.nn as nn\n",
    "import numpy as np"
   ]
  },
  {
   "cell_type": "markdown",
   "metadata": {},
   "source": [
    "## U-Net Implementation"
   ]
  },
  {
   "cell_type": "code",
   "execution_count": 2,
   "metadata": {},
   "outputs": [],
   "source": [
    "def get_padding(padding_type, kernel_size):\n",
    "    assert padding_type in ['same', 'valid']\n",
    "    if padding_type == 'same':\n",
    "        return (kernel_size-1)//2\n",
    "    return tuple(0 for _ in kernel_size)\n",
    "\n",
    "\n",
    "def build_double_conv(inp_channels: int, output_channels: int, dropout_frac: float = 0.1):\n",
    "    conv = nn.Sequential(\n",
    "        nn.ZeroPad2d(get_padding('same', 3)),\n",
    "        nn.Conv2d(inp_channels, output_channels, kernel_size=(3,3)),\n",
    "        nn.ReLU(inplace=True),\n",
    "        nn.Dropout(p=dropout_frac, inplace=True),\n",
    "        nn.ZeroPad2d(get_padding('same', 3)),\n",
    "        nn.Conv2d(output_channels, output_channels, kernel_size=(3,3)),\n",
    "        nn.ReLU(inplace=True),\n",
    "    )\n",
    "    return conv\n",
    "\n",
    "\n",
    "def crop_tensor(orignal_tensor, target_tensor):\n",
    "    orignal_size = orignal_tensor.size()[2]\n",
    "    target_size = target_tensor.size()[2]\n",
    "    delta = orignal_size - target_size\n",
    "    delta = delta // 2\n",
    "    return orignal_tensor[:, :, delta:orignal_size - delta, delta:orignal_size - delta]\n",
    "\n",
    "\n",
    "class UNet(nn.Module):\n",
    "    def __init__(self):\n",
    "        super(UNet, self).__init__()\n",
    "        self.MaxPool_2x2 = nn.MaxPool2d(kernel_size=2, stride=2)\n",
    "        self.down_conv_1 = build_double_conv(2, 64)\n",
    "        self.down_conv_2 = build_double_conv(64, 128)\n",
    "        self.down_conv_3 = build_double_conv(128, 256)\n",
    "        self.down_conv_4 = build_double_conv(256, 512)\n",
    "        self.down_conv_5 = build_double_conv(512, 1024)\n",
    "\n",
    "        ## Second Part of the architecture\n",
    "        self.up_transpose_1 = nn.ConvTranspose2d(\n",
    "            in_channels=1024,\n",
    "            out_channels=512,\n",
    "            kernel_size=(2,2),\n",
    "            stride=2)\n",
    "        self.up_conv_1 = build_double_conv(1024, 512)\n",
    "\n",
    "        self.up_transpose_2 = nn.ConvTranspose2d(\n",
    "            in_channels=512,\n",
    "            out_channels=256,\n",
    "            kernel_size=(2,2),\n",
    "            stride=2)\n",
    "        self.up_conv_2 = build_double_conv(512, 256)\n",
    "\n",
    "        self.up_transpose_3 = nn.ConvTranspose2d(\n",
    "            in_channels=256,\n",
    "            out_channels=128,\n",
    "            kernel_size=(2,2),\n",
    "            stride=2)\n",
    "        self.up_conv_3 = build_double_conv(256, 128)\n",
    "\n",
    "        self.up_transpose_4 = nn.ConvTranspose2d(\n",
    "            in_channels=128,\n",
    "            out_channels=64,\n",
    "            kernel_size=(2,2),\n",
    "            stride=2)\n",
    "        self.up_conv_4 = build_double_conv(128, 64)\n",
    "\n",
    "        ## Output\n",
    "        self.output = nn.Conv2d(in_channels=64, out_channels=1, kernel_size=1)\n",
    "\n",
    "    def forward(self, image):\n",
    "        ## Encoder\n",
    "        x1 = self.down_conv_1(image)  ## Skip connection\n",
    "#         print(x1.shape)\n",
    "        x2 = self.MaxPool_2x2(x1)\n",
    "#         print(x2.shape)\n",
    "\n",
    "        x3 = self.down_conv_2(x2)  ## Skip connection\n",
    "#         print(x3.shape)\n",
    "        x4 = self.MaxPool_2x2(x3)\n",
    "#         print(x4.shape)\n",
    "\n",
    "        x5 = self.down_conv_3(x4)  ## Skip connection\n",
    "#         print(x5.shape)\n",
    "        x6 = self.MaxPool_2x2(x5)\n",
    "#         print(x6.shape)\n",
    "\n",
    "        x7 = self.down_conv_4(x6)  ## Skip connection\n",
    "#         print(x7.shape)\n",
    "        x8 = self.MaxPool_2x2(x7)\n",
    "#         print(x8.shape)\n",
    "\n",
    "        x9 = self.down_conv_5(x8)\n",
    "#         print(x9.shape)\n",
    "\n",
    "        ## Decoder\n",
    "        x = self.up_transpose_1(x9)\n",
    "#         print(x.shape)\n",
    "        y = crop_tensor(x7, x)\n",
    "#         print(y.shape)\n",
    "        x = self.up_conv_1(torch.cat([x, y], axis=1))\n",
    "#         print(x.shape)\n",
    "\n",
    "        x = self.up_transpose_2(x)\n",
    "#         print(x.shape)\n",
    "        y = crop_tensor(x5, x)\n",
    "#         print(y.shape)\n",
    "        x = self.up_conv_2(torch.cat([x, y], axis=1))\n",
    "#         print(x.shape)\n",
    "\n",
    "        x = self.up_transpose_3(x)\n",
    "#         print(x.shape)\n",
    "        y = crop_tensor(x3, x)\n",
    "#         print(y.shape)\n",
    "        x = self.up_conv_3(torch.cat([x, y], axis=1))\n",
    "#         print(x.shape)\n",
    "\n",
    "        x = self.up_transpose_4(x)\n",
    "#         print(x.shape)\n",
    "        y = crop_tensor(x1, x)\n",
    "#         print(y.shape)\n",
    "        x = self.up_conv_4(torch.cat([x, y], axis=1))\n",
    "#         print(x.shape)\n",
    "\n",
    "        ## Output\n",
    "        x = self.output(x)\n",
    "#         print(x.shape)\n",
    "        return x"
   ]
  },
  {
   "cell_type": "code",
   "execution_count": 3,
   "metadata": {},
   "outputs": [],
   "source": [
    "# image = torch.rand((1, 1, 572, 572))\n",
    "# model = UNet()\n",
    "# model(image)"
   ]
  },
  {
   "cell_type": "markdown",
   "metadata": {},
   "source": [
    "## Dataset"
   ]
  },
  {
   "cell_type": "code",
   "execution_count": 4,
   "metadata": {},
   "outputs": [],
   "source": [
    "from skimage import io, transform\n",
    "import numpy as np\n",
    "import matplotlib.pyplot as plt\n",
    "from torch.utils.data import Dataset, DataLoader\n",
    "from torchvision import transforms, utils, datasets, models\n",
    "from lib import loaders, modules"
   ]
  },
  {
   "cell_type": "code",
   "execution_count": 5,
   "metadata": {},
   "outputs": [],
   "source": [
    "Radio_train = loaders.RadioUNet_c(phase=\"train\")\n",
    "Radio_val = loaders.RadioUNet_c(phase=\"val\")\n",
    "Radio_test = loaders.RadioUNet_c(phase=\"test\")\n",
    "\n",
    "image_datasets = {\n",
    "    'train': Radio_train, 'val': Radio_val\n",
    "}\n",
    "\n",
    "batch_size = 1\n",
    "\n",
    "dataloaders = {\n",
    "    'train': DataLoader(Radio_train, batch_size=batch_size, shuffle=True, num_workers=1),\n",
    "    'val': DataLoader(Radio_val, batch_size=batch_size, shuffle=True, num_workers=1)\n",
    "}"
   ]
  },
  {
   "cell_type": "code",
   "execution_count": 6,
   "metadata": {},
   "outputs": [
    {
     "data": {
      "image/png": "[encoded data removed]",
      "text/plain": [
       "<Figure size 432x288 with 1 Axes>"
      ]
     },
     "metadata": {
      "needs_background": "light"
     },
     "output_type": "display_data"
    }
   ],
   "source": [
    "image, mask = Radio_train[0]\n",
    "plt.imshow(image[0])\n",
    "plt.show()"
   ]
  },
  {
   "cell_type": "code",
   "execution_count": 7,
   "metadata": {},
   "outputs": [
    {
     "data": {
      "image/png": "[encoded data removed]",
      "text/plain": [
       "<Figure size 432x288 with 1 Axes>"
      ]
     },
     "metadata": {
      "needs_background": "light"
     },
     "output_type": "display_data"
    }
   ],
   "source": [
    "plt.imshow(mask[0])\n",
    "plt.show()"
   ]
  },
  {
   "cell_type": "markdown",
   "metadata": {},
   "source": [
    "## Image Dimensions"
   ]
  },
  {
   "cell_type": "code",
   "execution_count": 8,
   "metadata": {},
   "outputs": [
    {
     "name": "stdout",
     "output_type": "stream",
     "text": [
      "torch.Size([2, 256, 256])\n",
      "torch.Size([1, 256, 256])\n"
     ]
    }
   ],
   "source": [
    "print(image.size())\n",
    "print(mask.size())"
   ]
  },
  {
   "cell_type": "markdown",
   "metadata": {},
   "source": [
    "The following are the dimensions of the image and will help in determining the shape of the UNet:\n",
    "- The image or the input to the network has the following shape: 2 X 256 X 256. Thus it has 256 X 256 pixels with 2 channels.\n",
    "- The mask or labels for the has one channel, and is of the same dimensions as the orignal image."
   ]
  },
  {
   "cell_type": "markdown",
   "metadata": {},
   "source": [
    "## Testing the model on a Random Tensor"
   ]
  },
  {
   "cell_type": "code",
   "execution_count": 9,
   "metadata": {},
   "outputs": [
    {
     "data": {
      "text/plain": [
       "tensor([[[[ 0.0040, -0.0028, -0.0017,  ..., -0.0107, -0.0042,  0.0004],\n",
       "          [ 0.0014, -0.0098,  0.0020,  ..., -0.0087, -0.0075, -0.0016],\n",
       "          [-0.0092, -0.0111, -0.0022,  ..., -0.0113, -0.0126, -0.0096],\n",
       "          ...,\n",
       "          [-0.0082, -0.0129, -0.0135,  ..., -0.0091, -0.0093, -0.0104],\n",
       "          [ 0.0029,  0.0033, -0.0293,  ..., -0.0123, -0.0009, -0.0125],\n",
       "          [ 0.0039, -0.0079,  0.0046,  ..., -0.0022, -0.0026, -0.0035]]]],\n",
       "       grad_fn=<ThnnConv2DBackward>)"
      ]
     },
     "execution_count": 9,
     "metadata": {},
     "output_type": "execute_result"
    }
   ],
   "source": [
    "random_image = torch.randn((1, 2, 256, 256))\n",
    "model = UNet()\n",
    "model.forward(random_image)"
   ]
  },
  {
   "cell_type": "markdown",
   "metadata": {},
   "source": [
    "## Model Summary"
   ]
  },
  {
   "cell_type": "code",
   "execution_count": 10,
   "metadata": {},
   "outputs": [
    {
     "name": "stdout",
     "output_type": "stream",
     "text": [
      "----------------------------------------------------------------\n",
      "        Layer (type)               Output Shape         Param #\n",
      "================================================================\n",
      "         ZeroPad2d-1          [-1, 2, 258, 258]               0\n",
      "            Conv2d-2         [-1, 64, 256, 256]           1,216\n",
      "              ReLU-3         [-1, 64, 256, 256]               0\n",
      "           Dropout-4         [-1, 64, 256, 256]               0\n",
      "         ZeroPad2d-5         [-1, 64, 258, 258]               0\n",
      "            Conv2d-6         [-1, 64, 256, 256]          36,928\n",
      "              ReLU-7         [-1, 64, 256, 256]               0\n",
      "         MaxPool2d-8         [-1, 64, 128, 128]               0\n",
      "         ZeroPad2d-9         [-1, 64, 130, 130]               0\n",
      "           Conv2d-10        [-1, 128, 128, 128]          73,856\n",
      "             ReLU-11        [-1, 128, 128, 128]               0\n",
      "          Dropout-12        [-1, 128, 128, 128]               0\n",
      "        ZeroPad2d-13        [-1, 128, 130, 130]               0\n",
      "           Conv2d-14        [-1, 128, 128, 128]         147,584\n",
      "             ReLU-15        [-1, 128, 128, 128]               0\n",
      "        MaxPool2d-16          [-1, 128, 64, 64]               0\n",
      "        ZeroPad2d-17          [-1, 128, 66, 66]               0\n",
      "           Conv2d-18          [-1, 256, 64, 64]         295,168\n",
      "             ReLU-19          [-1, 256, 64, 64]               0\n",
      "          Dropout-20          [-1, 256, 64, 64]               0\n",
      "        ZeroPad2d-21          [-1, 256, 66, 66]               0\n",
      "           Conv2d-22          [-1, 256, 64, 64]         590,080\n",
      "             ReLU-23          [-1, 256, 64, 64]               0\n",
      "        MaxPool2d-24          [-1, 256, 32, 32]               0\n",
      "        ZeroPad2d-25          [-1, 256, 34, 34]               0\n",
      "           Conv2d-26          [-1, 512, 32, 32]       1,180,160\n",
      "             ReLU-27          [-1, 512, 32, 32]               0\n",
      "          Dropout-28          [-1, 512, 32, 32]               0\n",
      "        ZeroPad2d-29          [-1, 512, 34, 34]               0\n",
      "           Conv2d-30          [-1, 512, 32, 32]       2,359,808\n",
      "             ReLU-31          [-1, 512, 32, 32]               0\n",
      "        MaxPool2d-32          [-1, 512, 16, 16]               0\n",
      "        ZeroPad2d-33          [-1, 512, 18, 18]               0\n",
      "           Conv2d-34         [-1, 1024, 16, 16]       4,719,616\n",
      "             ReLU-35         [-1, 1024, 16, 16]               0\n",
      "          Dropout-36         [-1, 1024, 16, 16]               0\n",
      "        ZeroPad2d-37         [-1, 1024, 18, 18]               0\n",
      "           Conv2d-38         [-1, 1024, 16, 16]       9,438,208\n",
      "             ReLU-39         [-1, 1024, 16, 16]               0\n",
      "  ConvTranspose2d-40          [-1, 512, 32, 32]       2,097,664\n",
      "        ZeroPad2d-41         [-1, 1024, 34, 34]               0\n",
      "           Conv2d-42          [-1, 512, 32, 32]       4,719,104\n",
      "             ReLU-43          [-1, 512, 32, 32]               0\n",
      "          Dropout-44          [-1, 512, 32, 32]               0\n",
      "        ZeroPad2d-45          [-1, 512, 34, 34]               0\n",
      "           Conv2d-46          [-1, 512, 32, 32]       2,359,808\n",
      "             ReLU-47          [-1, 512, 32, 32]               0\n",
      "  ConvTranspose2d-48          [-1, 256, 64, 64]         524,544\n",
      "        ZeroPad2d-49          [-1, 512, 66, 66]               0\n",
      "           Conv2d-50          [-1, 256, 64, 64]       1,179,904\n",
      "             ReLU-51          [-1, 256, 64, 64]               0\n",
      "          Dropout-52          [-1, 256, 64, 64]               0\n",
      "        ZeroPad2d-53          [-1, 256, 66, 66]               0\n",
      "           Conv2d-54          [-1, 256, 64, 64]         590,080\n",
      "             ReLU-55          [-1, 256, 64, 64]               0\n",
      "  ConvTranspose2d-56        [-1, 128, 128, 128]         131,200\n",
      "        ZeroPad2d-57        [-1, 256, 130, 130]               0\n",
      "           Conv2d-58        [-1, 128, 128, 128]         295,040\n",
      "             ReLU-59        [-1, 128, 128, 128]               0\n",
      "          Dropout-60        [-1, 128, 128, 128]               0\n",
      "        ZeroPad2d-61        [-1, 128, 130, 130]               0\n",
      "           Conv2d-62        [-1, 128, 128, 128]         147,584\n",
      "             ReLU-63        [-1, 128, 128, 128]               0\n",
      "  ConvTranspose2d-64         [-1, 64, 256, 256]          32,832\n",
      "        ZeroPad2d-65        [-1, 128, 258, 258]               0\n",
      "           Conv2d-66         [-1, 64, 256, 256]          73,792\n",
      "             ReLU-67         [-1, 64, 256, 256]               0\n",
      "          Dropout-68         [-1, 64, 256, 256]               0\n",
      "        ZeroPad2d-69         [-1, 64, 258, 258]               0\n",
      "           Conv2d-70         [-1, 64, 256, 256]          36,928\n",
      "             ReLU-71         [-1, 64, 256, 256]               0\n",
      "           Conv2d-72          [-1, 1, 256, 256]              65\n",
      "================================================================\n",
      "Total params: 31,031,169\n",
      "Trainable params: 31,031,169\n",
      "Non-trainable params: 0\n",
      "----------------------------------------------------------------\n",
      "Input size (MB): 0.50\n",
      "Forward/backward pass size (MB): 953.19\n",
      "Params size (MB): 118.37\n",
      "Estimated Total Size (MB): 1072.07\n",
      "----------------------------------------------------------------\n"
     ]
    }
   ],
   "source": [
    "from torchsummary import summary\n",
    "device = torch.device('cuda' if torch.cuda.is_available() else 'cpu')\n",
    "model = model.to(device)\n",
    "summary(model, input_size=(2,256,256))"
   ]
  },
  {
   "cell_type": "markdown",
   "metadata": {},
   "source": [
    "## Model Training"
   ]
  },
  {
   "cell_type": "code",
   "execution_count": 11,
   "metadata": {},
   "outputs": [],
   "source": [
    "from collections import defaultdict\n",
    "import torch.nn.functional as F"
   ]
  },
  {
   "cell_type": "code",
   "execution_count": 12,
   "metadata": {},
   "outputs": [],
   "source": [
    "def dice_loss(pred, target, smooth = 1.):\n",
    "    pred = pred.contiguous()\n",
    "    target = target.contiguous()    \n",
    "\n",
    "    intersection = (pred * target).sum(dim=2).sum(dim=2)\n",
    "    \n",
    "    loss = (1 - ((2. * intersection + smooth) / (pred.sum(dim=2).sum(dim=2) + target.sum(dim=2).sum(dim=2) + smooth)))\n",
    "    \n",
    "    return loss.mean()\n",
    "\n",
    "def calc_loss(pred, target, metrics, bce_weight=0.5):\n",
    "    bce = F.binary_cross_entropy_with_logits(pred, target)\n",
    "        \n",
    "    pred = torch.sigmoid(pred)\n",
    "    dice = dice_loss(pred, target)\n",
    "    \n",
    "    loss = bce * bce_weight + dice * (1 - bce_weight)\n",
    "    \n",
    "    metrics['bce'] += bce.data.cpu().numpy() * target.size(0)\n",
    "    metrics['dice'] += dice.data.cpu().numpy() * target.size(0)\n",
    "    metrics['loss'] += loss.data.cpu().numpy() * target.size(0)\n",
    "    \n",
    "    return loss\n",
    "\n",
    "def print_metrics(metrics, epoch_samples, phase):    \n",
    "    outputs = []\n",
    "    for k in metrics.keys():\n",
    "        outputs.append(\"{}: {:4f}\".format(k, metrics[k] / epoch_samples))\n",
    "        \n",
    "    print(\"{}: {}\".format(phase, \", \".join(outputs))) \n",
    "\n",
    "def train_model(model, optimizer, scheduler, num_epochs=25):\n",
    "    best_model_wts = copy.deepcopy(model.state_dict())\n",
    "    best_loss = 1e10\n",
    "\n",
    "    for epoch in range(num_epochs):\n",
    "        print('Epoch {}/{}'.format(epoch, num_epochs - 1))\n",
    "        print('-' * 10)\n",
    "        \n",
    "        since = time.time()\n",
    "\n",
    "        # Each epoch has a training and validation phase\n",
    "        for phase in ['train', 'val']:\n",
    "            if phase == 'train':\n",
    "                scheduler.step()\n",
    "                for param_group in optimizer.param_groups:\n",
    "                    print(\"LR\", param_group['lr'])\n",
    "                    \n",
    "                model.train()  # Set model to training mode\n",
    "            else:\n",
    "                model.eval()   # Set model to evaluate mode\n",
    "\n",
    "            metrics = defaultdict(float)\n",
    "            epoch_samples = 0\n",
    "            \n",
    "            for inputs, labels in dataloaders[phase]:\n",
    "                inputs = inputs.to(device)\n",
    "                labels = labels.to(device)             \n",
    "\n",
    "                # zero the parameter gradients\n",
    "                optimizer.zero_grad()\n",
    "\n",
    "                # forward\n",
    "                # track history if only in train\n",
    "                with torch.set_grad_enabled(phase == 'train'):\n",
    "                    outputs = model(inputs)\n",
    "                    loss = calc_loss(outputs, labels, metrics)\n",
    "\n",
    "                    # backward + optimize only if in training phase\n",
    "                    if phase == 'train':\n",
    "                        loss.backward()\n",
    "                        optimizer.step()\n",
    "\n",
    "                # statistics\n",
    "                epoch_samples += inputs.size(0)\n",
    "\n",
    "            print_metrics(metrics, epoch_samples, phase)\n",
    "            epoch_loss = metrics['loss'] / epoch_samples\n",
    "\n",
    "            # deep copy the model\n",
    "            if phase == 'val' and epoch_loss < best_loss:\n",
    "                print(\"saving best model\")\n",
    "                best_loss = epoch_loss\n",
    "                best_model_wts = copy.deepcopy(model.state_dict())\n",
    "\n",
    "        time_elapsed = time.time() - since\n",
    "        print('{:.0f}m {:.0f}s'.format(time_elapsed // 60, time_elapsed % 60))\n",
    "            \n",
    "    print('Best val loss: {:4f}'.format(best_loss))\n",
    "\n",
    "    # load best model weights\n",
    "    model.load_state_dict(best_model_wts)\n",
    "    return model\n"
   ]
  },
  {
   "cell_type": "code",
   "execution_count": null,
   "metadata": {},
   "outputs": [],
   "source": []
  },
  {
   "cell_type": "code",
   "execution_count": 17,
   "metadata": {},
   "outputs": [
    {
     "name": "stdout",
     "output_type": "stream",
     "text": [
      "cuda\n"
     ]
    },
    {
     "ename": "RuntimeError",
     "evalue": "CUDA out of memory. Tried to allocate 20.00 MiB (GPU 0; 2.00 GiB total capacity; 1.10 GiB already allocated; 2.88 MiB free; 1.11 GiB reserved in total by PyTorch)",
     "output_type": "error",
     "traceback": [
      "\u001b[1;31m---------------------------------------------------------------------------\u001b[0m",
      "\u001b[1;31mRuntimeError\u001b[0m                              Traceback (most recent call last)",
      "\u001b[1;32m<ipython-input-17-62395f425af9>\u001b[0m in \u001b[0;36m<module>\u001b[1;34m\u001b[0m\n\u001b[0;32m      7\u001b[0m \u001b[0mprint\u001b[0m\u001b[1;33m(\u001b[0m\u001b[0mdevice\u001b[0m\u001b[1;33m)\u001b[0m\u001b[1;33m\u001b[0m\u001b[1;33m\u001b[0m\u001b[0m\n\u001b[0;32m      8\u001b[0m \u001b[1;33m\u001b[0m\u001b[0m\n\u001b[1;32m----> 9\u001b[1;33m \u001b[0mmodel\u001b[0m \u001b[1;33m=\u001b[0m \u001b[0mUNet\u001b[0m\u001b[1;33m(\u001b[0m\u001b[1;33m)\u001b[0m\u001b[1;33m.\u001b[0m\u001b[0mto\u001b[0m\u001b[1;33m(\u001b[0m\u001b[0mdevice\u001b[0m\u001b[1;33m)\u001b[0m\u001b[1;33m\u001b[0m\u001b[1;33m\u001b[0m\u001b[0m\n\u001b[0m\u001b[0;32m     10\u001b[0m \u001b[0moptimizer_ft\u001b[0m \u001b[1;33m=\u001b[0m \u001b[0moptim\u001b[0m\u001b[1;33m.\u001b[0m\u001b[0mAdam\u001b[0m\u001b[1;33m(\u001b[0m\u001b[0mfilter\u001b[0m\u001b[1;33m(\u001b[0m\u001b[1;32mlambda\u001b[0m \u001b[0mp\u001b[0m\u001b[1;33m:\u001b[0m \u001b[0mp\u001b[0m\u001b[1;33m.\u001b[0m\u001b[0mrequires_grad\u001b[0m\u001b[1;33m,\u001b[0m \u001b[0mmodel\u001b[0m\u001b[1;33m.\u001b[0m\u001b[0mparameters\u001b[0m\u001b[1;33m(\u001b[0m\u001b[1;33m)\u001b[0m\u001b[1;33m)\u001b[0m\u001b[1;33m,\u001b[0m \u001b[0mlr\u001b[0m\u001b[1;33m=\u001b[0m\u001b[1;36m1e-3\u001b[0m\u001b[1;33m)\u001b[0m\u001b[1;33m\u001b[0m\u001b[1;33m\u001b[0m\u001b[0m\n\u001b[0;32m     11\u001b[0m \u001b[1;33m\u001b[0m\u001b[0m\n",
      "\u001b[1;32m~\\anaconda3\\envs\\ML\\lib\\site-packages\\torch\\nn\\modules\\module.py\u001b[0m in \u001b[0;36mto\u001b[1;34m(self, *args, **kwargs)\u001b[0m\n\u001b[0;32m    671\u001b[0m             \u001b[1;32mreturn\u001b[0m \u001b[0mt\u001b[0m\u001b[1;33m.\u001b[0m\u001b[0mto\u001b[0m\u001b[1;33m(\u001b[0m\u001b[0mdevice\u001b[0m\u001b[1;33m,\u001b[0m \u001b[0mdtype\u001b[0m \u001b[1;32mif\u001b[0m \u001b[0mt\u001b[0m\u001b[1;33m.\u001b[0m\u001b[0mis_floating_point\u001b[0m\u001b[1;33m(\u001b[0m\u001b[1;33m)\u001b[0m \u001b[1;32mor\u001b[0m \u001b[0mt\u001b[0m\u001b[1;33m.\u001b[0m\u001b[0mis_complex\u001b[0m\u001b[1;33m(\u001b[0m\u001b[1;33m)\u001b[0m \u001b[1;32melse\u001b[0m \u001b[1;32mNone\u001b[0m\u001b[1;33m,\u001b[0m \u001b[0mnon_blocking\u001b[0m\u001b[1;33m)\u001b[0m\u001b[1;33m\u001b[0m\u001b[1;33m\u001b[0m\u001b[0m\n\u001b[0;32m    672\u001b[0m \u001b[1;33m\u001b[0m\u001b[0m\n\u001b[1;32m--> 673\u001b[1;33m         \u001b[1;32mreturn\u001b[0m \u001b[0mself\u001b[0m\u001b[1;33m.\u001b[0m\u001b[0m_apply\u001b[0m\u001b[1;33m(\u001b[0m\u001b[0mconvert\u001b[0m\u001b[1;33m)\u001b[0m\u001b[1;33m\u001b[0m\u001b[1;33m\u001b[0m\u001b[0m\n\u001b[0m\u001b[0;32m    674\u001b[0m \u001b[1;33m\u001b[0m\u001b[0m\n\u001b[0;32m    675\u001b[0m     def register_backward_hook(\n",
      "\u001b[1;32m~\\anaconda3\\envs\\ML\\lib\\site-packages\\torch\\nn\\modules\\module.py\u001b[0m in \u001b[0;36m_apply\u001b[1;34m(self, fn)\u001b[0m\n\u001b[0;32m    385\u001b[0m     \u001b[1;32mdef\u001b[0m \u001b[0m_apply\u001b[0m\u001b[1;33m(\u001b[0m\u001b[0mself\u001b[0m\u001b[1;33m,\u001b[0m \u001b[0mfn\u001b[0m\u001b[1;33m)\u001b[0m\u001b[1;33m:\u001b[0m\u001b[1;33m\u001b[0m\u001b[1;33m\u001b[0m\u001b[0m\n\u001b[0;32m    386\u001b[0m         \u001b[1;32mfor\u001b[0m \u001b[0mmodule\u001b[0m \u001b[1;32min\u001b[0m \u001b[0mself\u001b[0m\u001b[1;33m.\u001b[0m\u001b[0mchildren\u001b[0m\u001b[1;33m(\u001b[0m\u001b[1;33m)\u001b[0m\u001b[1;33m:\u001b[0m\u001b[1;33m\u001b[0m\u001b[1;33m\u001b[0m\u001b[0m\n\u001b[1;32m--> 387\u001b[1;33m             \u001b[0mmodule\u001b[0m\u001b[1;33m.\u001b[0m\u001b[0m_apply\u001b[0m\u001b[1;33m(\u001b[0m\u001b[0mfn\u001b[0m\u001b[1;33m)\u001b[0m\u001b[1;33m\u001b[0m\u001b[1;33m\u001b[0m\u001b[0m\n\u001b[0m\u001b[0;32m    388\u001b[0m \u001b[1;33m\u001b[0m\u001b[0m\n\u001b[0;32m    389\u001b[0m         \u001b[1;32mdef\u001b[0m \u001b[0mcompute_should_use_set_data\u001b[0m\u001b[1;33m(\u001b[0m\u001b[0mtensor\u001b[0m\u001b[1;33m,\u001b[0m \u001b[0mtensor_applied\u001b[0m\u001b[1;33m)\u001b[0m\u001b[1;33m:\u001b[0m\u001b[1;33m\u001b[0m\u001b[1;33m\u001b[0m\u001b[0m\n",
      "\u001b[1;32m~\\anaconda3\\envs\\ML\\lib\\site-packages\\torch\\nn\\modules\\module.py\u001b[0m in \u001b[0;36m_apply\u001b[1;34m(self, fn)\u001b[0m\n\u001b[0;32m    385\u001b[0m     \u001b[1;32mdef\u001b[0m \u001b[0m_apply\u001b[0m\u001b[1;33m(\u001b[0m\u001b[0mself\u001b[0m\u001b[1;33m,\u001b[0m \u001b[0mfn\u001b[0m\u001b[1;33m)\u001b[0m\u001b[1;33m:\u001b[0m\u001b[1;33m\u001b[0m\u001b[1;33m\u001b[0m\u001b[0m\n\u001b[0;32m    386\u001b[0m         \u001b[1;32mfor\u001b[0m \u001b[0mmodule\u001b[0m \u001b[1;32min\u001b[0m \u001b[0mself\u001b[0m\u001b[1;33m.\u001b[0m\u001b[0mchildren\u001b[0m\u001b[1;33m(\u001b[0m\u001b[1;33m)\u001b[0m\u001b[1;33m:\u001b[0m\u001b[1;33m\u001b[0m\u001b[1;33m\u001b[0m\u001b[0m\n\u001b[1;32m--> 387\u001b[1;33m             \u001b[0mmodule\u001b[0m\u001b[1;33m.\u001b[0m\u001b[0m_apply\u001b[0m\u001b[1;33m(\u001b[0m\u001b[0mfn\u001b[0m\u001b[1;33m)\u001b[0m\u001b[1;33m\u001b[0m\u001b[1;33m\u001b[0m\u001b[0m\n\u001b[0m\u001b[0;32m    388\u001b[0m \u001b[1;33m\u001b[0m\u001b[0m\n\u001b[0;32m    389\u001b[0m         \u001b[1;32mdef\u001b[0m \u001b[0mcompute_should_use_set_data\u001b[0m\u001b[1;33m(\u001b[0m\u001b[0mtensor\u001b[0m\u001b[1;33m,\u001b[0m \u001b[0mtensor_applied\u001b[0m\u001b[1;33m)\u001b[0m\u001b[1;33m:\u001b[0m\u001b[1;33m\u001b[0m\u001b[1;33m\u001b[0m\u001b[0m\n",
      "\u001b[1;32m~\\anaconda3\\envs\\ML\\lib\\site-packages\\torch\\nn\\modules\\module.py\u001b[0m in \u001b[0;36m_apply\u001b[1;34m(self, fn)\u001b[0m\n\u001b[0;32m    407\u001b[0m                 \u001b[1;31m# `with torch.no_grad():`\u001b[0m\u001b[1;33m\u001b[0m\u001b[1;33m\u001b[0m\u001b[1;33m\u001b[0m\u001b[0m\n\u001b[0;32m    408\u001b[0m                 \u001b[1;32mwith\u001b[0m \u001b[0mtorch\u001b[0m\u001b[1;33m.\u001b[0m\u001b[0mno_grad\u001b[0m\u001b[1;33m(\u001b[0m\u001b[1;33m)\u001b[0m\u001b[1;33m:\u001b[0m\u001b[1;33m\u001b[0m\u001b[1;33m\u001b[0m\u001b[0m\n\u001b[1;32m--> 409\u001b[1;33m                     \u001b[0mparam_applied\u001b[0m \u001b[1;33m=\u001b[0m \u001b[0mfn\u001b[0m\u001b[1;33m(\u001b[0m\u001b[0mparam\u001b[0m\u001b[1;33m)\u001b[0m\u001b[1;33m\u001b[0m\u001b[1;33m\u001b[0m\u001b[0m\n\u001b[0m\u001b[0;32m    410\u001b[0m                 \u001b[0mshould_use_set_data\u001b[0m \u001b[1;33m=\u001b[0m \u001b[0mcompute_should_use_set_data\u001b[0m\u001b[1;33m(\u001b[0m\u001b[0mparam\u001b[0m\u001b[1;33m,\u001b[0m \u001b[0mparam_applied\u001b[0m\u001b[1;33m)\u001b[0m\u001b[1;33m\u001b[0m\u001b[1;33m\u001b[0m\u001b[0m\n\u001b[0;32m    411\u001b[0m                 \u001b[1;32mif\u001b[0m \u001b[0mshould_use_set_data\u001b[0m\u001b[1;33m:\u001b[0m\u001b[1;33m\u001b[0m\u001b[1;33m\u001b[0m\u001b[0m\n",
      "\u001b[1;32m~\\anaconda3\\envs\\ML\\lib\\site-packages\\torch\\nn\\modules\\module.py\u001b[0m in \u001b[0;36mconvert\u001b[1;34m(t)\u001b[0m\n\u001b[0;32m    669\u001b[0m                 return t.to(device, dtype if t.is_floating_point() or t.is_complex() else None,\n\u001b[0;32m    670\u001b[0m                             non_blocking, memory_format=convert_to_format)\n\u001b[1;32m--> 671\u001b[1;33m             \u001b[1;32mreturn\u001b[0m \u001b[0mt\u001b[0m\u001b[1;33m.\u001b[0m\u001b[0mto\u001b[0m\u001b[1;33m(\u001b[0m\u001b[0mdevice\u001b[0m\u001b[1;33m,\u001b[0m \u001b[0mdtype\u001b[0m \u001b[1;32mif\u001b[0m \u001b[0mt\u001b[0m\u001b[1;33m.\u001b[0m\u001b[0mis_floating_point\u001b[0m\u001b[1;33m(\u001b[0m\u001b[1;33m)\u001b[0m \u001b[1;32mor\u001b[0m \u001b[0mt\u001b[0m\u001b[1;33m.\u001b[0m\u001b[0mis_complex\u001b[0m\u001b[1;33m(\u001b[0m\u001b[1;33m)\u001b[0m \u001b[1;32melse\u001b[0m \u001b[1;32mNone\u001b[0m\u001b[1;33m,\u001b[0m \u001b[0mnon_blocking\u001b[0m\u001b[1;33m)\u001b[0m\u001b[1;33m\u001b[0m\u001b[1;33m\u001b[0m\u001b[0m\n\u001b[0m\u001b[0;32m    672\u001b[0m \u001b[1;33m\u001b[0m\u001b[0m\n\u001b[0;32m    673\u001b[0m         \u001b[1;32mreturn\u001b[0m \u001b[0mself\u001b[0m\u001b[1;33m.\u001b[0m\u001b[0m_apply\u001b[0m\u001b[1;33m(\u001b[0m\u001b[0mconvert\u001b[0m\u001b[1;33m)\u001b[0m\u001b[1;33m\u001b[0m\u001b[1;33m\u001b[0m\u001b[0m\n",
      "\u001b[1;31mRuntimeError\u001b[0m: CUDA out of memory. Tried to allocate 20.00 MiB (GPU 0; 2.00 GiB total capacity; 1.10 GiB already allocated; 2.88 MiB free; 1.11 GiB reserved in total by PyTorch)"
     ]
    }
   ],
   "source": [
    "from torch import optim\n",
    "from torch.optim import lr_scheduler\n",
    "import time\n",
    "import copy\n",
    "\n",
    "device = torch.device('cuda' if torch.cuda.is_available() else 'cpu')\n",
    "print(device)\n",
    "\n",
    "model = UNet().to(device)\n",
    "optimizer_ft = optim.Adam(filter(lambda p: p.requires_grad, model.parameters()), lr=1e-3)\n",
    "\n",
    "exp_lr_scheduler = lr_scheduler.StepLR(optimizer_ft, step_size=10, gamma=0.1)        \n",
    "        \n",
    "model = train_model(model, optimizer_ft, exp_lr_scheduler, num_epochs=15)"
   ]
  },
  {
   "cell_type": "code",
   "execution_count": null,
   "metadata": {},
   "outputs": [],
   "source": []
  }
 ],
 "metadata": {
  "kernelspec": {
   "display_name": "Python 3",
   "language": "python",
   "name": "python3"
  },
  "language_info": {
   "codemirror_mode": {
    "name": "ipython",
    "version": 3
   },
   "file_extension": ".py",
   "mimetype": "text/x-python",
   "name": "python",
   "nbconvert_exporter": "python",
   "pygments_lexer": "ipython3",
   "version": "3.8.5"
  }
 },
 "nbformat": 4,
 "nbformat_minor": 4
}
